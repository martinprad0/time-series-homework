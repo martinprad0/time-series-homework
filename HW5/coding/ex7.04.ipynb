{
 "cells": [
  {
   "cell_type": "code",
   "execution_count": 11,
   "metadata": {},
   "outputs": [
    {
     "data": {
      "text/latex": [
       "$\\displaystyle \\begin{cases} 1 & \\text{for}\\: m = 0 \\\\\\frac{\\theta}{\\theta^{2} + 1} & \\text{for}\\: m = -1 \\vee m = 1 \\\\0 & \\text{otherwise} \\end{cases}$"
      ],
      "text/plain": [
       "Piecewise((1, Eq(m, 0)), (theta/(theta**2 + 1), Eq(m, -1) | Eq(m, 1)), (0, True))"
      ]
     },
     "execution_count": 11,
     "metadata": {},
     "output_type": "execute_result"
    }
   ],
   "source": [
    "import sympy as sp\n",
    "import numpy as np\n",
    "from IPython.display import display, Math\n",
    "import matplotlib.pyplot as plt\n",
    "\n",
    "theta = sp.Symbol(\"theta\", complex = True)\n",
    "m = sp.Symbol(\"m\", integer = True)\n",
    "\n",
    "rho = lambda m: sp.Piecewise((1, sp.Eq(m,0)), (theta/(1+theta**2), sp.Eq(m,1) | sp.Eq(m,-1)),(0,True))\n",
    "rho(m)"
   ]
  },
  {
   "cell_type": "code",
   "execution_count": 33,
   "metadata": {},
   "outputs": [],
   "source": [
    "i,j = sp.symbols(\"i j\", integer = True)\n",
    "k = sp.Symbol(\"k\", integer = True, positive = True)\n",
    "w = lambda i,j: sp.Sum( ( rho(k+i) + rho(k-i) + 2* rho(i)*rho(k) ) * ( rho(k+j) + rho(k-j) + 2* rho(j)*rho(k) ) , (k,1,40) )\n",
    "W = sp.Matrix([[w(i,j).doit() for i in range(10)] for j in range(10)])"
   ]
  },
  {
   "cell_type": "code",
   "execution_count": 41,
   "metadata": {},
   "outputs": [
    {
     "name": "stdout",
     "output_type": "stream",
     "text": [
      "\\left[\\begin{matrix}\\frac{16 \\theta^{2}}{\\left(\\theta^{2} + 1\\right)^{2}} & \\frac{8 \\theta^{3}}{\\left(\\theta^{2} + 1\\right)^{3}} + \\frac{4 \\theta}{\\theta^{2} + 1} & \\frac{4 \\theta^{2}}{\\left(\\theta^{2} + 1\\right)^{2}} & 0 & 0 & 0\\\\\\frac{8 \\theta^{3}}{\\left(\\theta^{2} + 1\\right)^{3}} + \\frac{4 \\theta}{\\theta^{2} + 1} & \\frac{\\theta^{2} \\left(\\theta^{2} + 1\\right)^{2} + \\left(2 \\theta^{2} + \\left(\\theta^{2} + 1\\right)^{2}\\right)^{2}}{\\left(\\theta^{2} + 1\\right)^{4}} & \\frac{2 \\theta \\left(\\theta^{2} + \\left(\\theta^{2} + 1\\right)^{2}\\right)}{\\left(\\theta^{2} + 1\\right)^{3}} & \\frac{\\theta^{2}}{\\left(\\theta^{2} + 1\\right)^{2}} & 0 & 0\\\\\\frac{4 \\theta^{2}}{\\left(\\theta^{2} + 1\\right)^{2}} & \\frac{2 \\theta \\left(\\theta^{2} + \\left(\\theta^{2} + 1\\right)^{2}\\right)}{\\left(\\theta^{2} + 1\\right)^{3}} & \\frac{2 \\theta^{2}}{\\left(\\theta^{2} + 1\\right)^{2}} + 1 & \\frac{2 \\theta}{\\theta^{2} + 1} & \\frac{\\theta^{2}}{\\left(\\theta^{2} + 1\\right)^{2}} & 0\\\\0 & \\frac{\\theta^{2}}{\\left(\\theta^{2} + 1\\right)^{2}} & \\frac{2 \\theta}{\\theta^{2} + 1} & \\frac{2 \\theta^{2}}{\\left(\\theta^{2} + 1\\right)^{2}} + 1 & \\frac{2 \\theta}{\\theta^{2} + 1} & \\frac{\\theta^{2}}{\\left(\\theta^{2} + 1\\right)^{2}}\\\\0 & 0 & \\frac{\\theta^{2}}{\\left(\\theta^{2} + 1\\right)^{2}} & \\frac{2 \\theta}{\\theta^{2} + 1} & \\frac{2 \\theta^{2}}{\\left(\\theta^{2} + 1\\right)^{2}} + 1 & \\frac{2 \\theta}{\\theta^{2} + 1}\\\\0 & 0 & 0 & \\frac{\\theta^{2}}{\\left(\\theta^{2} + 1\\right)^{2}} & \\frac{2 \\theta}{\\theta^{2} + 1} & \\frac{2 \\theta^{2}}{\\left(\\theta^{2} + 1\\right)^{2}} + 1\\end{matrix}\\right]\n"
     ]
    }
   ],
   "source": [
    "sp.print_latex(sp.simplify(W)[:6,:6])"
   ]
  }
 ],
 "metadata": {
  "kernelspec": {
   "display_name": "usr",
   "language": "python",
   "name": "python3"
  },
  "language_info": {
   "codemirror_mode": {
    "name": "ipython",
    "version": 3
   },
   "file_extension": ".py",
   "mimetype": "text/x-python",
   "name": "python",
   "nbconvert_exporter": "python",
   "pygments_lexer": "ipython3",
   "version": "3.12.4"
  }
 },
 "nbformat": 4,
 "nbformat_minor": 2
}
