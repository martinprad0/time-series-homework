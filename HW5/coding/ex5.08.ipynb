{
 "cells": [
  {
   "cell_type": "code",
   "execution_count": 2,
   "metadata": {},
   "outputs": [],
   "source": [
    "import sympy as sp\n",
    "import numpy as np\n",
    "from IPython.display import display, Math\n",
    "import matplotlib.pyplot as plt\n",
    "\n",
    "z = sp.Symbol(\"z\", complex = True)\n",
    "n, k, j = sp.symbols(\"n k j\", integer = True)\n",
    "N = 20"
   ]
  },
  {
   "cell_type": "code",
   "execution_count": 3,
   "metadata": {},
   "outputs": [],
   "source": [
    "# Insertar phi y theta\n",
    "phi = 1 - 0.1 * z - 0.12 * z**2\n",
    "theta = 1 - 7/10 * z\n",
    "sigma = 1 # standard deviation\n",
    "X = [0, .644, -.442, -.919, -1.573, - 0.852, -.907, .686, -.753, -.954, .576] # X_0 = 0"
   ]
  },
  {
   "cell_type": "code",
   "execution_count": 4,
   "metadata": {},
   "outputs": [],
   "source": [
    "# phi = 1 - z + 0.24*z**2\n",
    "# theta = 1 + 0.4*z + 0.2*z**2 + 0.1*z**3\n",
    "# sigma = 1\n",
    "# X = [0, 1.704, 0.527, 1.041, 0.942, 0.555, -1.002, -0.585, 0.010, -0.638, 0.525] # X_0 = 0"
   ]
  },
  {
   "cell_type": "code",
   "execution_count": 5,
   "metadata": {},
   "outputs": [],
   "source": [
    "phi = sp.Poly(phi)\n",
    "theta = sp.Poly(theta)\n",
    "p = phi.degree()\n",
    "q = theta.degree()\n",
    "m = max(p,q)\n",
    "center = max(p,q+1)\n",
    "\n",
    "\n",
    "phi_coeff = lambda k: -phi.coeffs()[-1-k] if 0< k <= p else 1 if k == 0 else 0\n",
    "theta_coeff = lambda k: theta.coeffs()[-1-k] if 0< k <= q else 1 if k == 0 else 0"
   ]
  },
  {
   "cell_type": "code",
   "execution_count": 6,
   "metadata": {},
   "outputs": [
    {
     "data": {
      "text/latex": [
       "$\\displaystyle \\psi(z) =\\frac{3}{7 \\left(\\frac{2 z}{5} - 1\\right)} + \\frac{10}{7 \\left(\\frac{3 z}{10} + 1\\right)}$"
      ],
      "text/plain": [
       "<IPython.core.display.Math object>"
      ]
     },
     "metadata": {},
     "output_type": "display_data"
    },
    {
     "data": {
      "text/latex": [
       "$\\displaystyle \\psi_n =\\frac{50^{- n} \\left(10 \\left(-15\\right)^{n} - 3 \\cdot 20^{n}\\right)}{7}$"
      ],
      "text/plain": [
       "<IPython.core.display.Math object>"
      ]
     },
     "metadata": {},
     "output_type": "display_data"
    }
   ],
   "source": [
    "# Calculo de psi(z) y expansion en serie de potencias\n",
    "\n",
    "\n",
    "partial_fraction_expansion = sp.apart(theta/phi, full=True).nsimplify(tolerance=1e-10)\n",
    "display(Math(\"\\\\psi(z) =\" + sp.latex(partial_fraction_expansion)))\n",
    "psi_n = 0\n",
    "polynomials = []\n",
    "for partial_fraction in partial_fraction_expansion.args:\n",
    "    if partial_fraction.is_polynomial() :\n",
    "        polynomials.append(partial_fraction)\n",
    "    else:\n",
    "        poly = sp.Poly(partial_fraction**(-1), z)\n",
    "        coeffs = (poly).coeffs()\n",
    "        degree = sp.degree(poly, z)\n",
    "        a = coeffs[-1]**(-1)\n",
    "        r = sp.root((a*(-1)**degree) * coeffs[0],degree)\n",
    "        psi_n += a*sp.binomial(n,degree-1)*r**n\n",
    "\n",
    "polynomial_part = []\n",
    "try:\n",
    "    polynomial_part = sp.Poly(sum(polynomials)).coeffs()[::-1]\n",
    "except:\n",
    "    None\n",
    "\n",
    "def psi(i):\n",
    "    return (psi_n + sum([sp.Piecewise((polynomial_part[l], sp.Eq(n,l)), (0, True)) for l in range(len(polynomial_part))])).subs({n:i})\n",
    "display(Math(\"\\\\psi_n =\" + sp.latex(psi(n).simplify())))"
   ]
  },
  {
   "cell_type": "code",
   "execution_count": 7,
   "metadata": {},
   "outputs": [
    {
     "data": {
      "text/latex": [
       "$\\displaystyle \\gamma(k) =\\frac{25 \\cdot 50^{- k} \\left(605 \\left(-15\\right)^{k} - 117 \\cdot 20^{k}\\right)}{8918}$"
      ],
      "text/plain": [
       "<IPython.core.display.Math object>"
      ]
     },
     "metadata": {},
     "output_type": "display_data"
    }
   ],
   "source": [
    "# Calculo de gamma\n",
    "gamma_expr = 0\n",
    "for expr in ((psi(n) * psi(n+k)).expand()).args:\n",
    "    log_expr = sp.expand_log(sp.log(expr), force = True).collect(k).collect(n)\n",
    "    final_expr = 1\n",
    "    for expr1 in log_expr.args:\n",
    "        final_expr *= sp.powdenest(sp.exp(expr1.simplify()), force = True)\n",
    "    gamma_expr += sp.Sum( final_expr,  (n,0,sp.oo))\n",
    "gamma_expr = ((sp.Integer(0) + gamma_expr).doit()).simplify()\n",
    "\n",
    "display(Math(\"\\\\gamma(k) =\" + sp.latex(gamma_expr)))\n",
    "# gamma = lambda x: gamma_expr.subs({k:x}).simplify()\n",
    "gamma_1 = sp.lambdify(k,gamma_expr)\n",
    "gamma = lambda k: gamma_1(abs(k))"
   ]
  },
  {
   "cell_type": "code",
   "execution_count": 8,
   "metadata": {},
   "outputs": [],
   "source": [
    "def get_autocovariance(phi, theta,N = N): \n",
    "    psi = [theta_coeff(0)]\n",
    "    for j in range(1, max(p,q+1)):\n",
    "        psi_j = theta_coeff(j) + sum([phi_coeff(k) * psi[j-k] for k in range(1,j+1)])\n",
    "        psi.append(psi_j)\n",
    "\n",
    "    for j in range(max(p,q+1), 2*p+2*q):\n",
    "        psi_j = sum([phi_coeff(k) * psi[j-k] for k in range(1,j+1)])\n",
    "        psi.append(psi_j)\n",
    "\n",
    "    gamma_symmetry_matrix = np.zeros((center, 2*center+1))\n",
    "    gamma_symmetry_vector = np.zeros((center,))\n",
    "    for j in range(1, max(p,q+1) + 1):\n",
    "        gamma_symmetry_matrix[j-1,center+j] = 1\n",
    "        gamma_symmetry_matrix[j-1,center-j] = -1\n",
    "    \n",
    "    gamma_boundary_matrix = np.zeros((center+1, 2*center+1))\n",
    "    gamma_boundary_vector = np.zeros((center+1,))\n",
    "    for k in range(0 , center+1):\n",
    "        for j in range(0,p+1):\n",
    "            gamma_boundary_matrix[k,center+k-j] = 1 if j == 0 else -phi_coeff(j)\n",
    "        gamma_boundary_vector[k] = sum([theta_coeff(j)*psi[j-k] for j in range(k,q+1)])\n",
    "\n",
    "\n",
    "\n",
    "    gamma_solution = np.linalg.solve(np.vstack([gamma_symmetry_matrix, gamma_boundary_matrix]),  np.hstack([gamma_symmetry_vector, gamma_boundary_vector]))[center:]\n",
    "\n",
    "    for k in range(center+1,N):\n",
    "        gamma_k = sum([phi_coeff(j) * gamma_solution[k-j] for j in range(1,p+1)])\n",
    "        gamma_solution = np.append(gamma_solution, gamma_k)\n",
    "    return gamma_solution"
   ]
  },
  {
   "cell_type": "code",
   "execution_count": 9,
   "metadata": {},
   "outputs": [],
   "source": [
    "def innovations_algorithm(phi,theta,sigma,N = N):    \n",
    "    gamma_solution = get_autocovariance(phi,theta)\n",
    "    gamma = lambda h: gamma_solution[abs(h)]\n",
    "    def kappa(i,j):\n",
    "        if 1 <= min(i, j) and max(i, j) <= m:\n",
    "            return sigma**(-2) * gamma(i - j)\n",
    "        if min(i, j) <= m < max(i, j) <= 2 * m:\n",
    "            return sigma**(-2) * (gamma(i - j) - sum([phi_coeff(r) * gamma(r - abs(i - j)) for r in range(1, p + 1)]))\n",
    "        if min(i, j) > m:\n",
    "            return sum([theta_coeff(r) * theta_coeff(r + abs(i - j)) for r in range(0, q + 1)])\n",
    "        else:\n",
    "            return 0\n",
    "\n",
    "    kappa_matrix = np.array([[kappa(i,j) for i in range(0,N+3)]for j in range(0,N+3)]).astype(float)\n",
    "\n",
    "    v_0 = kappa_matrix[1,1]\n",
    "    v = np.array([v_0])\n",
    "    O = np.empty((N+1, N+1))\n",
    "    for n in range(1,N+1):\n",
    "        for k in range(0,n):\n",
    "            O[n,n-k] = v[k]**(-1) * (kappa_matrix[n+1,k+1] - sum([ O[k,k-j]*O[n,n-j]*v[j] for j in range(0,k) ]))\n",
    "        v_n = kappa_matrix[n+1,n+1] - sum([ O[n,n-j]**2 * v[j] for j in range(0,n)])\n",
    "        v = np.append(v,v_n)\n",
    "\n",
    "    return O, v/sigma**2"
   ]
  },
  {
   "cell_type": "code",
   "execution_count": 10,
   "metadata": {},
   "outputs": [],
   "source": [
    "def prediction(phi,theta,sigma,X):\n",
    "    O, r = innovations_algorithm(phi,theta,sigma,N=len(X))\n",
    "    Xhat = np.array([0])\n",
    "    for n in range(0, len(X)):\n",
    "        if 0 <= n < m:\n",
    "            Xhat_n = sum([O[n,j] * ( X[n+1-j] - Xhat[n+1-j] ) for j in range(1, n+1)])\n",
    "            Xhat = np.append(Xhat, Xhat_n)\n",
    "        elif n >= m:\n",
    "            Xhat_n = sum([phi_coeff(i)*X[n+1-i] for i in range(1,p+1)]) + sum([O[n,j] * ( X[n+1-j] - Xhat[n+1-j] ) for j in range(1, q+1)])\n",
    "            Xhat = np.append(Xhat, Xhat_n)\n",
    "    return Xhat\n",
    "\n",
    "\n",
    "def h_step_prediction(phi,theta,sigma,X,h):\n",
    "    n = len(X)-1\n",
    "\n",
    "    O, r = innovations_algorithm(phi,theta,sigma,N=len(X)+h)\n",
    "    Xhat = prediction(phi,theta,sigma,X)\n",
    "\n",
    "    P_nX = np.append(X, Xhat[-1])\n",
    "    for k in range(n+2, n+h+1):\n",
    "        if k <= m:\n",
    "            P_nX_k = sum([phi_coeff(i)*P_nX[k-i] for i in range(1,p+1)]) + sum([O[k-1,j] * ( X[k-j] - Xhat[k-n-j] ) for j in range(k-n, q+1)])\n",
    "            P_nX = np.append(P_nX, P_nX_k)\n",
    "        else:\n",
    "            P_nX_k = sum([phi_coeff(i)*P_nX[k-i] for i in range(1,p+1)]) + sum([O[k-1,j] * ( X[k-j] - Xhat[k-j] ) for j in range(k-n, q+1)])\n",
    "            P_nX = np.append(P_nX, P_nX_k)\n",
    "    return P_nX\n",
    "\n",
    "\n"
   ]
  },
  {
   "cell_type": "code",
   "execution_count": 11,
   "metadata": {},
   "outputs": [],
   "source": [
    "O, r = innovations_algorithm(phi,theta,sigma,N=len(X)+30)"
   ]
  },
  {
   "cell_type": "code",
   "execution_count": 12,
   "metadata": {},
   "outputs": [
    {
     "data": {
      "text/plain": [
       "array([0.258854112159841, 0.0950054112159841, 0.0405630345807793],\n",
       "      dtype=object)"
      ]
     },
     "execution_count": 12,
     "metadata": {},
     "output_type": "execute_result"
    }
   ],
   "source": [
    "h_step_prediction(phi,theta,sigma,X,3)[11:]"
   ]
  },
  {
   "cell_type": "code",
   "execution_count": 13,
   "metadata": {},
   "outputs": [
    {
     "data": {
      "text/latex": [
       "$\\displaystyle \\chi(z) = \\phi(z)^{-1} =- \\frac{4}{7 \\left(\\frac{2 z}{5} - 1\\right)} + \\frac{3}{7 \\left(\\frac{3 z}{10} + 1\\right)}$"
      ],
      "text/plain": [
       "<IPython.core.display.Math object>"
      ]
     },
     "metadata": {},
     "output_type": "display_data"
    },
    {
     "data": {
      "text/latex": [
       "$\\displaystyle \\chi_n =\\frac{50^{- n} \\left(3 \\left(-15\\right)^{n} + 4 \\cdot 20^{n}\\right)}{7}$"
      ],
      "text/plain": [
       "<IPython.core.display.Math object>"
      ]
     },
     "metadata": {},
     "output_type": "display_data"
    }
   ],
   "source": [
    "\n",
    "partial_fraction_expansion = sp.apart(1/phi, full=True).nsimplify(tolerance=1e-10)\n",
    "display(Math(\"\\\\chi(z) = \\\\phi(z)^{-1} =\" + sp.latex(partial_fraction_expansion)))\n",
    "chi_n = 0\n",
    "polynomials = []\n",
    "for partial_fraction in partial_fraction_expansion.args:\n",
    "    if partial_fraction.is_polynomial() :\n",
    "        polynomials.append(partial_fraction)\n",
    "    else:\n",
    "        poly = sp.Poly(partial_fraction**(-1), z)\n",
    "        coeffs = (poly).coeffs()\n",
    "        degree = sp.degree(poly, z)\n",
    "        a = coeffs[-1]**(-1)\n",
    "        r = sp.root((a*(-1)**degree) * coeffs[0],degree)\n",
    "        chi_n += a*sp.binomial(n,degree-1)*r**n\n",
    "\n",
    "chi = sp.lambdify(n, chi_n)\n",
    "display(Math(\"\\\\chi_n =\" + sp.latex(chi_n.simplify())))"
   ]
  },
  {
   "cell_type": "code",
   "execution_count": 45,
   "metadata": {},
   "outputs": [
    {
     "data": {
      "text/plain": [
       "([1,\n",
       "  0.100000000000000,\n",
       "  0.130000000000000,\n",
       "  0.0250000000000000,\n",
       "  0.0181000000000000,\n",
       "  0.00481000000000000,\n",
       "  0.00265300000000000,\n",
       "  0.000842500000000000,\n",
       "  0.000402610000000000,\n",
       "  0.000141361000000000],\n",
       " [1.0,\n",
       "  0.1,\n",
       "  0.13,\n",
       "  0.024999999999999998,\n",
       "  0.018099999999999998,\n",
       "  0.00481,\n",
       "  0.002653,\n",
       "  0.0008424999999999999,\n",
       "  0.00040260999999999997,\n",
       "  0.000141361])"
      ]
     },
     "execution_count": 45,
     "metadata": {},
     "output_type": "execute_result"
    }
   ],
   "source": [
    "chi_coeff = lambda k : chi_list[k] if k >= 0 else 0\n",
    "chi_list = [1]\n",
    "for j in range(1,2*N):\n",
    "    chi_list.append(sum([phi_coeff(k)*chi_coeff(j-k) for k in range(1,min(p,j)+1)]))\n",
    "\n",
    "chi_list[:10], [chi(i) for i in range(10)]"
   ]
  },
  {
   "cell_type": "code",
   "execution_count": 14,
   "metadata": {},
   "outputs": [
    {
     "data": {
      "text/plain": [
       "(0.4898512690589256, 0.48995174094140187, 0.49000096869989385)"
      ]
     },
     "execution_count": 14,
     "metadata": {},
     "output_type": "execute_result"
    }
   ],
   "source": [
    "n = len(X)-1\n",
    "O, R = innovations_algorithm(phi,theta,sigma,N=N+2)\n",
    "v = sigma**2 * R\n",
    "mean_square_error = lambda h: sum([\n",
    "    (sum([ chi(r)*O[n+h-r-1,h-j+r] for r in range(0,j+1)]))**2 * v[n+h-j-1] for j in range(0,h)])\n",
    "\n",
    "mean_square_error(1), mean_square_error(2), mean_square_error(3) # 2.96 4.81"
   ]
  },
  {
   "cell_type": "code",
   "execution_count": 15,
   "metadata": {},
   "outputs": [
    {
     "data": {
      "text/latex": [
       "$\\displaystyle 1.36$"
      ],
      "text/plain": [
       "1.36000000000000"
      ]
     },
     "execution_count": 15,
     "metadata": {},
     "output_type": "execute_result"
    }
   ],
   "source": [
    "# h = 2 j = 0\n",
    "h = 2\n",
    "theta_coeff = lambda k: theta.coeffs()[-1-k] if 0< k <= q else 1 if k == 0 else 0\n",
    "sigma**2 * sum([sum([chi(r) * theta_coeff(j-r) for r in range(0,j+1)])**2 for j in range(0,h)])"
   ]
  },
  {
   "cell_type": "code",
   "execution_count": 39,
   "metadata": {},
   "outputs": [
    {
     "data": {
      "text/plain": [
       "array([1.63062067, 1.46691264, 1.41253918])"
      ]
     },
     "execution_count": 39,
     "metadata": {},
     "output_type": "execute_result"
    }
   ],
   "source": [
    "mu_n = h_step_prediction(phi,theta,sigma,X,3)[11:].astype(float)\n",
    "sigma_n = np.sqrt(np.array([mean_square_error(1), mean_square_error(2), mean_square_error(3)])).astype(float)\n",
    "import scipy.stats as stats\n",
    "alpha = 0.05\n",
    "\n",
    "-stats.norm.ppf(np.array([alpha/2,]), loc =0, scale =sigma_n) + mu_n"
   ]
  }
 ],
 "metadata": {
  "kernelspec": {
   "display_name": "usr",
   "language": "python",
   "name": "python3"
  },
  "language_info": {
   "codemirror_mode": {
    "name": "ipython",
    "version": 3
   },
   "file_extension": ".py",
   "mimetype": "text/x-python",
   "name": "python",
   "nbconvert_exporter": "python",
   "pygments_lexer": "ipython3",
   "version": "3.12.4"
  }
 },
 "nbformat": 4,
 "nbformat_minor": 2
}
